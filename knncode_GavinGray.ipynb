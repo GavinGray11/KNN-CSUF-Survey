{
  "nbformat": 4,
  "nbformat_minor": 0,
  "metadata": {
    "colab": {
      "name": "knncode_GavinGray.ipynb",
      "provenance": [],
      "collapsed_sections": [
        "t4NH4JJK5pQC",
        "WgQ0LEpmlQwu",
        "qYSGj6e6l7h1",
        "Zbhu18dYmJlv",
        "NL0gn4e4ymYY"
      ]
    },
    "kernelspec": {
      "name": "python3",
      "display_name": "Python 3"
    },
    "language_info": {
      "name": "python"
    }
  },
  "cells": [
    {
      "cell_type": "markdown",
      "source": [
        "# Import Dataset "
      ],
      "metadata": {
        "id": "t4NH4JJK5pQC"
      }
    },
    {
      "cell_type": "markdown",
      "source": [
        "- for the grader: Never submitted a notebook beofre. I got the happiness.csv from my drive which was a long path name, so if you download it locally, just uncomment the first or second cell and throw the csv in the folder if it's not there already. Apologies if I submitted it wrong. Please let me know and I can resubmit with the dataset importing correctly."
      ],
      "metadata": {
        "id": "nxa2BrfflKnA"
      }
    },
    {
      "cell_type": "code",
      "source": [
        "import pandas as pd \n",
        "import numpy as np\n",
        "import matplotlib.pyplot as plt\n",
        "\n",
        "#df = pd.read_csv(\"HappinessData-1.csv\", sep=',')\n",
        "#df = pd.read_csv(\"/HappinessData-1.csv\", sep=',')\n",
        "df = pd.read_csv(\"/content/drive/MyDrive/483_Project1/HappinessData-1.csv\", sep=',')\n",
        "df\n",
        "\n"
      ],
      "metadata": {
        "colab": {
          "base_uri": "https://localhost:8080/"
        },
        "id": "16XUKZnGl6BF",
        "outputId": "bfa23e22-b6de-461e-d9f0-34ce6a316742"
      },
      "execution_count": null,
      "outputs": [
        {
          "output_type": "execute_result",
          "data": {
            "text/html": [
              "\n",
              "  <div id=\"df-10e3a2b6-4aff-42d2-8acc-603e05399c71\">\n",
              "    <div class=\"colab-df-container\">\n",
              "      <div>\n",
              "<style scoped>\n",
              "    .dataframe tbody tr th:only-of-type {\n",
              "        vertical-align: middle;\n",
              "    }\n",
              "\n",
              "    .dataframe tbody tr th {\n",
              "        vertical-align: top;\n",
              "    }\n",
              "\n",
              "    .dataframe thead th {\n",
              "        text-align: right;\n",
              "    }\n",
              "</style>\n",
              "<table border=\"1\" class=\"dataframe\">\n",
              "  <thead>\n",
              "    <tr style=\"text-align: right;\">\n",
              "      <th></th>\n",
              "      <th>Unhappy/Happy</th>\n",
              "      <th>City Services Availability</th>\n",
              "      <th>Housing Cost</th>\n",
              "      <th>Quality of schools</th>\n",
              "      <th>Community trust in local police</th>\n",
              "      <th>Community Maintenance</th>\n",
              "      <th>Availability of Community Room</th>\n",
              "    </tr>\n",
              "  </thead>\n",
              "  <tbody>\n",
              "    <tr>\n",
              "      <th>0</th>\n",
              "      <td>1</td>\n",
              "      <td>5</td>\n",
              "      <td>3</td>\n",
              "      <td>3.0</td>\n",
              "      <td>3.0</td>\n",
              "      <td>5</td>\n",
              "      <td>3</td>\n",
              "    </tr>\n",
              "    <tr>\n",
              "      <th>1</th>\n",
              "      <td>0</td>\n",
              "      <td>5</td>\n",
              "      <td>3</td>\n",
              "      <td>3.0</td>\n",
              "      <td>3.0</td>\n",
              "      <td>5</td>\n",
              "      <td>3</td>\n",
              "    </tr>\n",
              "    <tr>\n",
              "      <th>2</th>\n",
              "      <td>0</td>\n",
              "      <td>4</td>\n",
              "      <td>3</td>\n",
              "      <td>3.0</td>\n",
              "      <td>3.0</td>\n",
              "      <td>4</td>\n",
              "      <td>4</td>\n",
              "    </tr>\n",
              "    <tr>\n",
              "      <th>3</th>\n",
              "      <td>0</td>\n",
              "      <td>4</td>\n",
              "      <td>1</td>\n",
              "      <td>3.0</td>\n",
              "      <td>4.0</td>\n",
              "      <td>4</td>\n",
              "      <td>5</td>\n",
              "    </tr>\n",
              "    <tr>\n",
              "      <th>4</th>\n",
              "      <td>1</td>\n",
              "      <td>3</td>\n",
              "      <td>2</td>\n",
              "      <td>4.0</td>\n",
              "      <td>4.0</td>\n",
              "      <td>4</td>\n",
              "      <td>5</td>\n",
              "    </tr>\n",
              "    <tr>\n",
              "      <th>...</th>\n",
              "      <td>...</td>\n",
              "      <td>...</td>\n",
              "      <td>...</td>\n",
              "      <td>...</td>\n",
              "      <td>...</td>\n",
              "      <td>...</td>\n",
              "      <td>...</td>\n",
              "    </tr>\n",
              "    <tr>\n",
              "      <th>135</th>\n",
              "      <td>1</td>\n",
              "      <td>4</td>\n",
              "      <td>3</td>\n",
              "      <td>3.0</td>\n",
              "      <td>3.0</td>\n",
              "      <td>3</td>\n",
              "      <td>4</td>\n",
              "    </tr>\n",
              "    <tr>\n",
              "      <th>136</th>\n",
              "      <td>0</td>\n",
              "      <td>3</td>\n",
              "      <td>4</td>\n",
              "      <td>3.0</td>\n",
              "      <td>3.0</td>\n",
              "      <td>2</td>\n",
              "      <td>3</td>\n",
              "    </tr>\n",
              "    <tr>\n",
              "      <th>137</th>\n",
              "      <td>1</td>\n",
              "      <td>3</td>\n",
              "      <td>3</td>\n",
              "      <td>3.0</td>\n",
              "      <td>5.0</td>\n",
              "      <td>5</td>\n",
              "      <td>5</td>\n",
              "    </tr>\n",
              "    <tr>\n",
              "      <th>138</th>\n",
              "      <td>1</td>\n",
              "      <td>3</td>\n",
              "      <td>3</td>\n",
              "      <td>1.0</td>\n",
              "      <td>3.0</td>\n",
              "      <td>3</td>\n",
              "      <td>4</td>\n",
              "    </tr>\n",
              "    <tr>\n",
              "      <th>139</th>\n",
              "      <td>1</td>\n",
              "      <td>3</td>\n",
              "      <td>3</td>\n",
              "      <td>1.0</td>\n",
              "      <td>3.0</td>\n",
              "      <td>3</td>\n",
              "      <td>4</td>\n",
              "    </tr>\n",
              "  </tbody>\n",
              "</table>\n",
              "<p>140 rows × 7 columns</p>\n",
              "</div>\n",
              "      <button class=\"colab-df-convert\" onclick=\"convertToInteractive('df-10e3a2b6-4aff-42d2-8acc-603e05399c71')\"\n",
              "              title=\"Convert this dataframe to an interactive table.\"\n",
              "              style=\"display:none;\">\n",
              "        \n",
              "  <svg xmlns=\"http://www.w3.org/2000/svg\" height=\"24px\"viewBox=\"0 0 24 24\"\n",
              "       width=\"24px\">\n",
              "    <path d=\"M0 0h24v24H0V0z\" fill=\"none\"/>\n",
              "    <path d=\"M18.56 5.44l.94 2.06.94-2.06 2.06-.94-2.06-.94-.94-2.06-.94 2.06-2.06.94zm-11 1L8.5 8.5l.94-2.06 2.06-.94-2.06-.94L8.5 2.5l-.94 2.06-2.06.94zm10 10l.94 2.06.94-2.06 2.06-.94-2.06-.94-.94-2.06-.94 2.06-2.06.94z\"/><path d=\"M17.41 7.96l-1.37-1.37c-.4-.4-.92-.59-1.43-.59-.52 0-1.04.2-1.43.59L10.3 9.45l-7.72 7.72c-.78.78-.78 2.05 0 2.83L4 21.41c.39.39.9.59 1.41.59.51 0 1.02-.2 1.41-.59l7.78-7.78 2.81-2.81c.8-.78.8-2.07 0-2.86zM5.41 20L4 18.59l7.72-7.72 1.47 1.35L5.41 20z\"/>\n",
              "  </svg>\n",
              "      </button>\n",
              "      \n",
              "  <style>\n",
              "    .colab-df-container {\n",
              "      display:flex;\n",
              "      flex-wrap:wrap;\n",
              "      gap: 12px;\n",
              "    }\n",
              "\n",
              "    .colab-df-convert {\n",
              "      background-color: #E8F0FE;\n",
              "      border: none;\n",
              "      border-radius: 50%;\n",
              "      cursor: pointer;\n",
              "      display: none;\n",
              "      fill: #1967D2;\n",
              "      height: 32px;\n",
              "      padding: 0 0 0 0;\n",
              "      width: 32px;\n",
              "    }\n",
              "\n",
              "    .colab-df-convert:hover {\n",
              "      background-color: #E2EBFA;\n",
              "      box-shadow: 0px 1px 2px rgba(60, 64, 67, 0.3), 0px 1px 3px 1px rgba(60, 64, 67, 0.15);\n",
              "      fill: #174EA6;\n",
              "    }\n",
              "\n",
              "    [theme=dark] .colab-df-convert {\n",
              "      background-color: #3B4455;\n",
              "      fill: #D2E3FC;\n",
              "    }\n",
              "\n",
              "    [theme=dark] .colab-df-convert:hover {\n",
              "      background-color: #434B5C;\n",
              "      box-shadow: 0px 1px 3px 1px rgba(0, 0, 0, 0.15);\n",
              "      filter: drop-shadow(0px 1px 2px rgba(0, 0, 0, 0.3));\n",
              "      fill: #FFFFFF;\n",
              "    }\n",
              "  </style>\n",
              "\n",
              "      <script>\n",
              "        const buttonEl =\n",
              "          document.querySelector('#df-10e3a2b6-4aff-42d2-8acc-603e05399c71 button.colab-df-convert');\n",
              "        buttonEl.style.display =\n",
              "          google.colab.kernel.accessAllowed ? 'block' : 'none';\n",
              "\n",
              "        async function convertToInteractive(key) {\n",
              "          const element = document.querySelector('#df-10e3a2b6-4aff-42d2-8acc-603e05399c71');\n",
              "          const dataTable =\n",
              "            await google.colab.kernel.invokeFunction('convertToInteractive',\n",
              "                                                     [key], {});\n",
              "          if (!dataTable) return;\n",
              "\n",
              "          const docLinkHtml = 'Like what you see? Visit the ' +\n",
              "            '<a target=\"_blank\" href=https://colab.research.google.com/notebooks/data_table.ipynb>data table notebook</a>'\n",
              "            + ' to learn more about interactive tables.';\n",
              "          element.innerHTML = '';\n",
              "          dataTable['output_type'] = 'display_data';\n",
              "          await google.colab.output.renderOutput(dataTable, element);\n",
              "          const docLink = document.createElement('div');\n",
              "          docLink.innerHTML = docLinkHtml;\n",
              "          element.appendChild(docLink);\n",
              "        }\n",
              "      </script>\n",
              "    </div>\n",
              "  </div>\n",
              "  "
            ],
            "text/plain": [
              "     Unhappy/Happy  ...  Availability of Community Room \n",
              "0                1  ...                                3\n",
              "1                0  ...                                3\n",
              "2                0  ...                                4\n",
              "3                0  ...                                5\n",
              "4                1  ...                                5\n",
              "..             ...  ...                              ...\n",
              "135              1  ...                                4\n",
              "136              0  ...                                3\n",
              "137              1  ...                                5\n",
              "138              1  ...                                4\n",
              "139              1  ...                                4\n",
              "\n",
              "[140 rows x 7 columns]"
            ]
          },
          "metadata": {},
          "execution_count": 134
        }
      ]
    },
    {
      "cell_type": "code",
      "source": [
        "# option to delete all the rows with NaN values\n",
        "#df.dropna()"
      ],
      "metadata": {
        "id": "QKLidW9yxr4x"
      },
      "execution_count": null,
      "outputs": []
    },
    {
      "cell_type": "markdown",
      "source": [
        "# Check for null vallues in dataset\n",
        "\n",
        "**Sources for this section:**\n",
        "\n",
        "*isnull():* https://pandas.pydata.org/docs/reference/api/pandas.DataFrame.isnull.html\n",
        "\n",
        "*sum():* https://pandas.pydata.org/docs/reference/api/pandas.DataFrame.sum.html\n",
        "\n",
        "*info():* https://pandas.pydata.org/docs/reference/api/pandas.DataFrame.sum.html\n",
        "\n",
        "*loc:* https://pandas.pydata.org/docs/reference/api/pandas.DataFrame.loc.html"
      ],
      "metadata": {
        "id": "WgQ0LEpmlQwu"
      }
    },
    {
      "cell_type": "markdown",
      "source": [
        "We can see there are two in feature 3 (Community trust in local police) and 2 in feature 2 (Quality of schools)"
      ],
      "metadata": {
        "id": "Zk19QMkEaQpH"
      }
    },
    {
      "cell_type": "code",
      "source": [
        "print(df.isnull().sum(), '\\n')\n",
        "df.info()"
      ],
      "metadata": {
        "colab": {
          "base_uri": "https://localhost:8080/"
        },
        "id": "B2YiZkt5g2cD",
        "outputId": "c92bf8c4-e73d-4334-f442-068da1f8fbd9"
      },
      "execution_count": null,
      "outputs": [
        {
          "output_type": "stream",
          "name": "stdout",
          "text": [
            "Unhappy/Happy                      0\n",
            "City Services Availability         0\n",
            "Housing Cost                       0\n",
            "Quality of schools                 2\n",
            "Community trust in local police    2\n",
            "Community Maintenance              0\n",
            "Availability of Community Room     0\n",
            "dtype: int64 \n",
            "\n",
            "<class 'pandas.core.frame.DataFrame'>\n",
            "RangeIndex: 140 entries, 0 to 139\n",
            "Data columns (total 7 columns):\n",
            " #   Column                           Non-Null Count  Dtype  \n",
            "---  ------                           --------------  -----  \n",
            " 0   Unhappy/Happy                    140 non-null    int64  \n",
            " 1   City Services Availability       140 non-null    int64  \n",
            " 2   Housing Cost                     140 non-null    int64  \n",
            " 3   Quality of schools               138 non-null    float64\n",
            " 4   Community trust in local police  138 non-null    float64\n",
            " 5   Community Maintenance            140 non-null    int64  \n",
            " 6   Availability of Community Room   140 non-null    int64  \n",
            "dtypes: float64(2), int64(5)\n",
            "memory usage: 7.8 KB\n"
          ]
        }
      ]
    },
    {
      "cell_type": "code",
      "source": [
        "#Check all locations from csv are NaN before filling them\n",
        "print(df.loc[5], '\\n')\n",
        "print(df.loc[18], '\\n')\n",
        "print(df.loc[27], '\\n')\n",
        "print(df.loc[31], '\\n')"
      ],
      "metadata": {
        "colab": {
          "base_uri": "https://localhost:8080/"
        },
        "id": "bPpuRqs-u89-",
        "outputId": "1f77d822-15a9-495f-bd68-58572092078a"
      },
      "execution_count": null,
      "outputs": [
        {
          "output_type": "stream",
          "name": "stdout",
          "text": [
            "Unhappy/Happy                      1.0\n",
            "City Services Availability         3.0\n",
            "Housing Cost                       2.0\n",
            "Quality of schools                 4.0\n",
            "Community trust in local police    NaN\n",
            "Community Maintenance              4.0\n",
            "Availability of Community Room     5.0\n",
            "Name: 5, dtype: float64 \n",
            "\n",
            "Unhappy/Happy                      1.0\n",
            "City Services Availability         5.0\n",
            "Housing Cost                       3.0\n",
            "Quality of schools                 4.0\n",
            "Community trust in local police    NaN\n",
            "Community Maintenance              4.0\n",
            "Availability of Community Room     5.0\n",
            "Name: 18, dtype: float64 \n",
            "\n",
            "Unhappy/Happy                      1.0\n",
            "City Services Availability         4.0\n",
            "Housing Cost                       3.0\n",
            "Quality of schools                 NaN\n",
            "Community trust in local police    4.0\n",
            "Community Maintenance              3.0\n",
            "Availability of Community Room     4.0\n",
            "Name: 27, dtype: float64 \n",
            "\n",
            "Unhappy/Happy                      1.0\n",
            "City Services Availability         5.0\n",
            "Housing Cost                       3.0\n",
            "Quality of schools                 NaN\n",
            "Community trust in local police    5.0\n",
            "Community Maintenance              4.0\n",
            "Availability of Community Room     5.0\n",
            "Name: 31, dtype: float64 \n",
            "\n"
          ]
        }
      ]
    },
    {
      "cell_type": "markdown",
      "source": [
        "# Handle NaN Values\n",
        "\n",
        "**Sources for this section:**\n",
        "\n",
        "*fillna():* https://pandas.pydata.org/docs/reference/api/pandas.DataFrame.fillna.html\n",
        "\n",
        "*median():* https://pandas.pydata.org/docs/reference/api/pandas.DataFrame.median.html\n",
        "\n",
        "*info():* https://pandas.pydata.org/docs/reference/api/pandas.DataFrame.sum.html\n",
        "\n",
        "*loc:* https://pandas.pydata.org/docs/reference/api/pandas.DataFrame.loc.html"
      ],
      "metadata": {
        "id": "qYSGj6e6l7h1"
      }
    },
    {
      "cell_type": "code",
      "source": [
        "# update all null locations in the column with median of entire column\n",
        "\n",
        "print('The Median of Quality of schools is', df['Quality of schools'].median())\n",
        "print('The Median of Community trust in local police is', df['Community trust in local police'].median(), '\\n')\n",
        "\n",
        "df['Quality of schools'].fillna(df['Quality of schools'].median(), inplace=True)\n",
        "df['Community trust in local police'].fillna(df['Community trust in local police'].median(), inplace=True)\n",
        "\n",
        "# Check a previous location is filled with the medians and check there are no Non-Null values in our dataset\n",
        "print(df.loc[5], '\\n')\n",
        "print(df.loc[18], '\\n')\n",
        "print(df.loc[27], '\\n')\n",
        "print(df.loc[31], '\\n')\n",
        "print('\\n')\n",
        "df.info()"
      ],
      "metadata": {
        "colab": {
          "base_uri": "https://localhost:8080/"
        },
        "id": "UNFfBjetglXf",
        "outputId": "a9251482-c1bb-46bf-8133-75514c1d2554"
      },
      "execution_count": null,
      "outputs": [
        {
          "output_type": "stream",
          "name": "stdout",
          "text": [
            "The Median of Quality of schools is 3.0\n",
            "The Median of Community trust in local police is 4.0 \n",
            "\n",
            "Unhappy/Happy                      1.0\n",
            "City Services Availability         3.0\n",
            "Housing Cost                       2.0\n",
            "Quality of schools                 4.0\n",
            "Community trust in local police    4.0\n",
            "Community Maintenance              4.0\n",
            "Availability of Community Room     5.0\n",
            "Name: 5, dtype: float64 \n",
            "\n",
            "Unhappy/Happy                      1.0\n",
            "City Services Availability         5.0\n",
            "Housing Cost                       3.0\n",
            "Quality of schools                 4.0\n",
            "Community trust in local police    4.0\n",
            "Community Maintenance              4.0\n",
            "Availability of Community Room     5.0\n",
            "Name: 18, dtype: float64 \n",
            "\n",
            "Unhappy/Happy                      1.0\n",
            "City Services Availability         4.0\n",
            "Housing Cost                       3.0\n",
            "Quality of schools                 3.0\n",
            "Community trust in local police    4.0\n",
            "Community Maintenance              3.0\n",
            "Availability of Community Room     4.0\n",
            "Name: 27, dtype: float64 \n",
            "\n",
            "Unhappy/Happy                      1.0\n",
            "City Services Availability         5.0\n",
            "Housing Cost                       3.0\n",
            "Quality of schools                 3.0\n",
            "Community trust in local police    5.0\n",
            "Community Maintenance              4.0\n",
            "Availability of Community Room     5.0\n",
            "Name: 31, dtype: float64 \n",
            "\n",
            "\n",
            "\n",
            "<class 'pandas.core.frame.DataFrame'>\n",
            "RangeIndex: 140 entries, 0 to 139\n",
            "Data columns (total 7 columns):\n",
            " #   Column                           Non-Null Count  Dtype  \n",
            "---  ------                           --------------  -----  \n",
            " 0   Unhappy/Happy                    140 non-null    int64  \n",
            " 1   City Services Availability       140 non-null    int64  \n",
            " 2   Housing Cost                     140 non-null    int64  \n",
            " 3   Quality of schools               140 non-null    float64\n",
            " 4   Community trust in local police  140 non-null    float64\n",
            " 5   Community Maintenance            140 non-null    int64  \n",
            " 6   Availability of Community Room   140 non-null    int64  \n",
            "dtypes: float64(2), int64(5)\n",
            "memory usage: 7.8 KB\n"
          ]
        }
      ]
    },
    {
      "cell_type": "markdown",
      "source": [
        "# Rearange Columns\n",
        "\n",
        "- Make Unhappy/Happy be at the end of the dataset\n",
        "\n",
        "***Sources for this section:***\n",
        "\n",
        "*reindex():* https://pandas.pydata.org/docs/reference/api/pandas.DataFrame.reindex.html"
      ],
      "metadata": {
        "id": "Zbhu18dYmJlv"
      }
    },
    {
      "cell_type": "code",
      "source": [
        "# Rearange the dataframe so that the labels Unhappy/Happy are the last column in the dataset\n",
        "col_names = ['City Services Availability', 'Housing Cost' ,'Quality of schools', 'Community trust in local police', 'Community Maintenance','Availability of Community Room ', 'Unhappy/Happy']\n",
        "df = df.reindex(columns=col_names)\n",
        "df.head()"
      ],
      "metadata": {
        "colab": {
          "base_uri": "https://localhost:8080/"
        },
        "id": "48glbCJin7Dk",
        "outputId": "2e509ba6-4889-49e5-8543-305dfaaef50b"
      },
      "execution_count": null,
      "outputs": [
        {
          "output_type": "execute_result",
          "data": {
            "text/html": [
              "\n",
              "  <div id=\"df-bc9176cd-1b07-4010-9632-5cf07a3fadcf\">\n",
              "    <div class=\"colab-df-container\">\n",
              "      <div>\n",
              "<style scoped>\n",
              "    .dataframe tbody tr th:only-of-type {\n",
              "        vertical-align: middle;\n",
              "    }\n",
              "\n",
              "    .dataframe tbody tr th {\n",
              "        vertical-align: top;\n",
              "    }\n",
              "\n",
              "    .dataframe thead th {\n",
              "        text-align: right;\n",
              "    }\n",
              "</style>\n",
              "<table border=\"1\" class=\"dataframe\">\n",
              "  <thead>\n",
              "    <tr style=\"text-align: right;\">\n",
              "      <th></th>\n",
              "      <th>City Services Availability</th>\n",
              "      <th>Housing Cost</th>\n",
              "      <th>Quality of schools</th>\n",
              "      <th>Community trust in local police</th>\n",
              "      <th>Community Maintenance</th>\n",
              "      <th>Availability of Community Room</th>\n",
              "      <th>Unhappy/Happy</th>\n",
              "    </tr>\n",
              "  </thead>\n",
              "  <tbody>\n",
              "    <tr>\n",
              "      <th>0</th>\n",
              "      <td>5</td>\n",
              "      <td>3</td>\n",
              "      <td>3.0</td>\n",
              "      <td>3.0</td>\n",
              "      <td>5</td>\n",
              "      <td>3</td>\n",
              "      <td>1</td>\n",
              "    </tr>\n",
              "    <tr>\n",
              "      <th>1</th>\n",
              "      <td>5</td>\n",
              "      <td>3</td>\n",
              "      <td>3.0</td>\n",
              "      <td>3.0</td>\n",
              "      <td>5</td>\n",
              "      <td>3</td>\n",
              "      <td>0</td>\n",
              "    </tr>\n",
              "    <tr>\n",
              "      <th>2</th>\n",
              "      <td>4</td>\n",
              "      <td>3</td>\n",
              "      <td>3.0</td>\n",
              "      <td>3.0</td>\n",
              "      <td>4</td>\n",
              "      <td>4</td>\n",
              "      <td>0</td>\n",
              "    </tr>\n",
              "    <tr>\n",
              "      <th>3</th>\n",
              "      <td>4</td>\n",
              "      <td>1</td>\n",
              "      <td>3.0</td>\n",
              "      <td>4.0</td>\n",
              "      <td>4</td>\n",
              "      <td>5</td>\n",
              "      <td>0</td>\n",
              "    </tr>\n",
              "    <tr>\n",
              "      <th>4</th>\n",
              "      <td>3</td>\n",
              "      <td>2</td>\n",
              "      <td>4.0</td>\n",
              "      <td>4.0</td>\n",
              "      <td>4</td>\n",
              "      <td>5</td>\n",
              "      <td>1</td>\n",
              "    </tr>\n",
              "  </tbody>\n",
              "</table>\n",
              "</div>\n",
              "      <button class=\"colab-df-convert\" onclick=\"convertToInteractive('df-bc9176cd-1b07-4010-9632-5cf07a3fadcf')\"\n",
              "              title=\"Convert this dataframe to an interactive table.\"\n",
              "              style=\"display:none;\">\n",
              "        \n",
              "  <svg xmlns=\"http://www.w3.org/2000/svg\" height=\"24px\"viewBox=\"0 0 24 24\"\n",
              "       width=\"24px\">\n",
              "    <path d=\"M0 0h24v24H0V0z\" fill=\"none\"/>\n",
              "    <path d=\"M18.56 5.44l.94 2.06.94-2.06 2.06-.94-2.06-.94-.94-2.06-.94 2.06-2.06.94zm-11 1L8.5 8.5l.94-2.06 2.06-.94-2.06-.94L8.5 2.5l-.94 2.06-2.06.94zm10 10l.94 2.06.94-2.06 2.06-.94-2.06-.94-.94-2.06-.94 2.06-2.06.94z\"/><path d=\"M17.41 7.96l-1.37-1.37c-.4-.4-.92-.59-1.43-.59-.52 0-1.04.2-1.43.59L10.3 9.45l-7.72 7.72c-.78.78-.78 2.05 0 2.83L4 21.41c.39.39.9.59 1.41.59.51 0 1.02-.2 1.41-.59l7.78-7.78 2.81-2.81c.8-.78.8-2.07 0-2.86zM5.41 20L4 18.59l7.72-7.72 1.47 1.35L5.41 20z\"/>\n",
              "  </svg>\n",
              "      </button>\n",
              "      \n",
              "  <style>\n",
              "    .colab-df-container {\n",
              "      display:flex;\n",
              "      flex-wrap:wrap;\n",
              "      gap: 12px;\n",
              "    }\n",
              "\n",
              "    .colab-df-convert {\n",
              "      background-color: #E8F0FE;\n",
              "      border: none;\n",
              "      border-radius: 50%;\n",
              "      cursor: pointer;\n",
              "      display: none;\n",
              "      fill: #1967D2;\n",
              "      height: 32px;\n",
              "      padding: 0 0 0 0;\n",
              "      width: 32px;\n",
              "    }\n",
              "\n",
              "    .colab-df-convert:hover {\n",
              "      background-color: #E2EBFA;\n",
              "      box-shadow: 0px 1px 2px rgba(60, 64, 67, 0.3), 0px 1px 3px 1px rgba(60, 64, 67, 0.15);\n",
              "      fill: #174EA6;\n",
              "    }\n",
              "\n",
              "    [theme=dark] .colab-df-convert {\n",
              "      background-color: #3B4455;\n",
              "      fill: #D2E3FC;\n",
              "    }\n",
              "\n",
              "    [theme=dark] .colab-df-convert:hover {\n",
              "      background-color: #434B5C;\n",
              "      box-shadow: 0px 1px 3px 1px rgba(0, 0, 0, 0.15);\n",
              "      filter: drop-shadow(0px 1px 2px rgba(0, 0, 0, 0.3));\n",
              "      fill: #FFFFFF;\n",
              "    }\n",
              "  </style>\n",
              "\n",
              "      <script>\n",
              "        const buttonEl =\n",
              "          document.querySelector('#df-bc9176cd-1b07-4010-9632-5cf07a3fadcf button.colab-df-convert');\n",
              "        buttonEl.style.display =\n",
              "          google.colab.kernel.accessAllowed ? 'block' : 'none';\n",
              "\n",
              "        async function convertToInteractive(key) {\n",
              "          const element = document.querySelector('#df-bc9176cd-1b07-4010-9632-5cf07a3fadcf');\n",
              "          const dataTable =\n",
              "            await google.colab.kernel.invokeFunction('convertToInteractive',\n",
              "                                                     [key], {});\n",
              "          if (!dataTable) return;\n",
              "\n",
              "          const docLinkHtml = 'Like what you see? Visit the ' +\n",
              "            '<a target=\"_blank\" href=https://colab.research.google.com/notebooks/data_table.ipynb>data table notebook</a>'\n",
              "            + ' to learn more about interactive tables.';\n",
              "          element.innerHTML = '';\n",
              "          dataTable['output_type'] = 'display_data';\n",
              "          await google.colab.output.renderOutput(dataTable, element);\n",
              "          const docLink = document.createElement('div');\n",
              "          docLink.innerHTML = docLinkHtml;\n",
              "          element.appendChild(docLink);\n",
              "        }\n",
              "      </script>\n",
              "    </div>\n",
              "  </div>\n",
              "  "
            ],
            "text/plain": [
              "   City Services Availability  ...  Unhappy/Happy\n",
              "0                           5  ...              1\n",
              "1                           5  ...              0\n",
              "2                           4  ...              0\n",
              "3                           4  ...              0\n",
              "4                           3  ...              1\n",
              "\n",
              "[5 rows x 7 columns]"
            ]
          },
          "metadata": {},
          "execution_count": 139
        }
      ]
    },
    {
      "cell_type": "markdown",
      "source": [
        "# Create arrays for X (features) and Y (labels) from the dataset\n",
        "\n",
        "**Sources for this section:**\n",
        "\n",
        "*values.tolist():*\n",
        "\n",
        "https://pandas.pydata.org/docs/reference/api/pandas.Series.tolist.html\n",
        "\n",
        "https://pandas.pydata.org/docs/reference/api/pandas.DataFrame.values.html\n",
        "\n",
        "*np.ravel():* https://numpy.org/doc/stable/reference/generated/numpy.ravel.html\n",
        "\n",
        "*np.array():* https://numpy.org/doc/stable/reference/generated/numpy.array.html"
      ],
      "metadata": {
        "id": "NL0gn4e4ymYY"
      }
    },
    {
      "cell_type": "markdown",
      "source": [
        "Create an array of all the CSUF responses from the dataset for the X paramter for train_test_split(). \n",
        "- Each position of the list is an array of the respective rows from the dataset. "
      ],
      "metadata": {
        "id": "SewK97FTnYmr"
      }
    },
    {
      "cell_type": "code",
      "source": [
        "features_list = df[['City Services Availability', 'Housing Cost' ,'Quality of schools', 'Community trust in local police', 'Community Maintenance','Availability of Community Room ']].values.tolist()\n",
        "features = np.array(features_list)\n",
        "print(features)"
      ],
      "metadata": {
        "colab": {
          "base_uri": "https://localhost:8080/"
        },
        "id": "invXFXPGXCJX",
        "outputId": "94f61f53-a85e-4db6-e012-4301eccd496e"
      },
      "execution_count": null,
      "outputs": [
        {
          "output_type": "stream",
          "name": "stdout",
          "text": [
            "[[5. 3. 3. 3. 5. 3.]\n",
            " [5. 3. 3. 3. 5. 3.]\n",
            " [4. 3. 3. 3. 4. 4.]\n",
            " [4. 1. 3. 4. 4. 5.]\n",
            " [3. 2. 4. 4. 4. 5.]\n",
            " [3. 2. 4. 4. 4. 5.]\n",
            " [4. 1. 3. 1. 1. 4.]\n",
            " [4. 2. 3. 3. 4. 4.]\n",
            " [5. 3. 4. 3. 4. 5.]\n",
            " [5. 3. 4. 3. 4. 5.]\n",
            " [5. 2. 3. 3. 2. 5.]\n",
            " [4. 4. 3. 4. 2. 4.]\n",
            " [4. 1. 3. 4. 4. 3.]\n",
            " [5. 2. 3. 3. 3. 3.]\n",
            " [4. 2. 4. 3. 2. 4.]\n",
            " [5. 2. 3. 3. 4. 5.]\n",
            " [4. 3. 3. 4. 2. 4.]\n",
            " [3. 1. 2. 4. 3. 5.]\n",
            " [5. 3. 4. 4. 4. 5.]\n",
            " [5. 3. 3. 4. 4. 5.]\n",
            " [1. 1. 1. 3. 1. 4.]\n",
            " [5. 2. 5. 5. 5. 3.]\n",
            " [5. 1. 3. 3. 4. 4.]\n",
            " [5. 1. 3. 3. 4. 4.]\n",
            " [5. 1. 3. 3. 4. 4.]\n",
            " [5. 2. 4. 3. 4. 5.]\n",
            " [5. 2. 4. 3. 4. 5.]\n",
            " [4. 3. 3. 4. 3. 4.]\n",
            " [4. 3. 2. 4. 3. 4.]\n",
            " [5. 1. 1. 5. 3. 5.]\n",
            " [4. 4. 4. 4. 3. 4.]\n",
            " [5. 3. 3. 5. 4. 5.]\n",
            " [5. 2. 4. 2. 2. 4.]\n",
            " [4. 4. 3. 3. 2. 5.]\n",
            " [4. 3. 3. 3. 3. 5.]\n",
            " [5. 2. 4. 4. 5. 5.]\n",
            " [5. 2. 4. 4. 5. 5.]\n",
            " [5. 5. 5. 2. 5. 5.]\n",
            " [4. 1. 3. 4. 4. 4.]\n",
            " [4. 1. 3. 4. 4. 4.]\n",
            " [3. 3. 3. 5. 4. 3.]\n",
            " [4. 1. 1. 3. 4. 4.]\n",
            " [5. 1. 5. 5. 5. 5.]\n",
            " [5. 4. 5. 5. 5. 5.]\n",
            " [4. 2. 2. 4. 4. 5.]\n",
            " [4. 3. 3. 4. 3. 4.]\n",
            " [3. 4. 3. 4. 1. 4.]\n",
            " [4. 5. 5. 5. 1. 3.]\n",
            " [4. 3. 3. 4. 2. 4.]\n",
            " [5. 2. 3. 3. 2. 5.]\n",
            " [5. 3. 3. 4. 3. 3.]\n",
            " [5. 2. 5. 5. 5. 5.]\n",
            " [3. 2. 3. 3. 4. 4.]\n",
            " [4. 3. 2. 3. 2. 4.]\n",
            " [5. 2. 3. 5. 5. 5.]\n",
            " [5. 3. 3. 3. 2. 5.]\n",
            " [5. 5. 5. 5. 5. 5.]\n",
            " [4. 3. 2. 4. 4. 4.]\n",
            " [3. 3. 3. 3. 3. 4.]\n",
            " [4. 2. 4. 4. 4. 4.]\n",
            " [5. 3. 2. 4. 4. 4.]\n",
            " [4. 3. 4. 4. 2. 4.]\n",
            " [5. 2. 3. 4. 4. 5.]\n",
            " [5. 3. 3. 3. 5. 5.]\n",
            " [4. 1. 3. 4. 4. 3.]\n",
            " [5. 2. 4. 5. 4. 5.]\n",
            " [5. 4. 2. 4. 3. 5.]\n",
            " [3. 3. 1. 3. 2. 3.]\n",
            " [3. 4. 5. 4. 5. 4.]\n",
            " [5. 1. 3. 4. 5. 5.]\n",
            " [5. 4. 5. 5. 5. 4.]\n",
            " [5. 5. 3. 4. 4. 5.]\n",
            " [5. 4. 4. 3. 3. 4.]\n",
            " [5. 4. 4. 4. 4. 5.]\n",
            " [3. 1. 3. 2. 1. 2.]\n",
            " [5. 5. 5. 5. 5. 5.]\n",
            " [4. 4. 3. 4. 3. 3.]\n",
            " [5. 4. 5. 4. 5. 4.]\n",
            " [4. 2. 3. 4. 3. 3.]\n",
            " [3. 3. 2. 4. 4. 4.]\n",
            " [5. 2. 2. 4. 5. 5.]\n",
            " [5. 3. 2. 4. 4. 5.]\n",
            " [3. 1. 2. 3. 3. 1.]\n",
            " [5. 3. 4. 3. 4. 3.]\n",
            " [5. 2. 3. 3. 3. 5.]\n",
            " [4. 3. 4. 4. 3. 4.]\n",
            " [3. 2. 2. 3. 3. 3.]\n",
            " [4. 1. 3. 5. 3. 5.]\n",
            " [5. 1. 4. 3. 5. 5.]\n",
            " [4. 1. 3. 2. 4. 4.]\n",
            " [5. 1. 5. 3. 5. 5.]\n",
            " [4. 2. 4. 4. 4. 4.]\n",
            " [5. 2. 4. 4. 5. 5.]\n",
            " [5. 3. 4. 4. 4. 4.]\n",
            " [5. 2. 4. 4. 2. 3.]\n",
            " [5. 3. 3. 4. 4. 5.]\n",
            " [5. 3. 3. 4. 4. 4.]\n",
            " [3. 2. 3. 3. 5. 4.]\n",
            " [4. 1. 3. 3. 3. 4.]\n",
            " [5. 1. 4. 4. 4. 5.]\n",
            " [5. 2. 2. 4. 4. 5.]\n",
            " [5. 3. 5. 4. 5. 5.]\n",
            " [3. 4. 4. 5. 1. 3.]\n",
            " [5. 1. 5. 5. 5. 5.]\n",
            " [4. 3. 3. 4. 4. 4.]\n",
            " [5. 5. 1. 1. 5. 1.]\n",
            " [4. 4. 4. 4. 1. 3.]\n",
            " [5. 2. 3. 4. 4. 3.]\n",
            " [5. 3. 3. 1. 3. 5.]\n",
            " [5. 2. 3. 4. 2. 5.]\n",
            " [5. 3. 3. 4. 4. 5.]\n",
            " [4. 3. 3. 4. 4. 5.]\n",
            " [5. 3. 2. 5. 5. 5.]\n",
            " [3. 3. 3. 4. 2. 4.]\n",
            " [3. 2. 3. 5. 4. 3.]\n",
            " [5. 3. 3. 3. 3. 5.]\n",
            " [5. 4. 3. 3. 3. 5.]\n",
            " [5. 4. 3. 3. 3. 5.]\n",
            " [5. 5. 3. 5. 5. 5.]\n",
            " [3. 1. 2. 2. 1. 3.]\n",
            " [5. 4. 4. 4. 4. 5.]\n",
            " [4. 1. 4. 4. 4. 4.]\n",
            " [4. 4. 4. 2. 5. 5.]\n",
            " [3. 2. 3. 3. 2. 3.]\n",
            " [4. 4. 3. 4. 4. 4.]\n",
            " [5. 2. 4. 5. 5. 5.]\n",
            " [4. 2. 4. 5. 4. 3.]\n",
            " [4. 1. 3. 3. 4. 3.]\n",
            " [3. 2. 4. 3. 4. 4.]\n",
            " [5. 3. 4. 5. 4. 5.]\n",
            " [5. 1. 4. 3. 4. 5.]\n",
            " [5. 1. 2. 4. 4. 5.]\n",
            " [4. 2. 4. 4. 4. 4.]\n",
            " [4. 3. 5. 5. 5. 4.]\n",
            " [5. 1. 2. 5. 2. 4.]\n",
            " [4. 3. 3. 3. 3. 4.]\n",
            " [3. 4. 3. 3. 2. 3.]\n",
            " [3. 3. 3. 5. 5. 5.]\n",
            " [3. 3. 1. 3. 3. 4.]\n",
            " [3. 3. 1. 3. 3. 4.]]\n"
          ]
        }
      ]
    },
    {
      "cell_type": "markdown",
      "source": [
        "Create a 1-d array to pass as the Y parameter for train_test_split() that represents the labels for 0/1 (Unhappy/Happy)"
      ],
      "metadata": {
        "id": "TXczD-8qogMm"
      }
    },
    {
      "cell_type": "code",
      "source": [
        "labels_list = df[['Unhappy/Happy']].values.tolist()\n",
        "labels = np.ravel(labels_list)\n",
        "print(labels)"
      ],
      "metadata": {
        "colab": {
          "base_uri": "https://localhost:8080/"
        },
        "id": "WltYngUqw0Wm",
        "outputId": "4d2e4b32-9091-432a-a2ab-1dbc1c1a6a63"
      },
      "execution_count": null,
      "outputs": [
        {
          "output_type": "stream",
          "name": "stdout",
          "text": [
            "[1 0 0 0 1 1 1 0 1 1 1 1 0 0 1 0 0 1 1 1 0 1 1 1 1 1 1 1 1 0 0 1 1 1 0 1 1\n",
            " 0 1 1 0 0 1 1 1 1 0 0 1 0 0 1 0 0 1 0 1 1 0 1 1 0 1 1 0 1 0 0 0 1 1 1 1 1\n",
            " 0 1 0 1 1 0 1 1 0 1 0 1 0 0 1 0 1 0 0 1 1 0 0 0 0 0 0 0 1 1 1 1 0 1 0 1 1\n",
            " 0 0 0 0 1 0 0 1 0 1 0 0 0 0 1 0 0 1 0 1 0 0 0 1 1 0 1 1 1]\n"
          ]
        }
      ]
    },
    {
      "cell_type": "markdown",
      "source": [
        "Check there is a label for every feature"
      ],
      "metadata": {
        "id": "W4Bu6UT3oUbp"
      }
    },
    {
      "cell_type": "code",
      "source": [
        "print(len(features))\n",
        "print(len(labels))"
      ],
      "metadata": {
        "colab": {
          "base_uri": "https://localhost:8080/"
        },
        "id": "TOgEs4rZ0TJb",
        "outputId": "7fa39937-f3fa-4826-ddfe-90eed3ef7d98"
      },
      "execution_count": null,
      "outputs": [
        {
          "output_type": "stream",
          "name": "stdout",
          "text": [
            "140\n",
            "140\n"
          ]
        }
      ]
    },
    {
      "cell_type": "markdown",
      "source": [
        "# Train Model using sikit-learn's KNN Classifier\n",
        "\n",
        "**Sources used for this section:**\n",
        "\n",
        "*plt.plot:* https://matplotlib.org/3.5.1/api/_as_gen/matplotlib.pyplot.plot.html\n",
        "\n",
        "*KNeighborsClassifier:* https://scikit-learn.org/stable/modules/generated/sklearn.neighbors.KNeighborsClassifier.html\n",
        "\n",
        "*accuracy_score:* https://scikit-learn.org/stable/modules/generated/sklearn.metrics.accuracy_score.html#sklearn.metrics.accuracy_score\n",
        "\n",
        "*train_test_split:* https://scikit-learn.org/stable/modules/generated/sklearn.model_selection.train_test_split.html?highlight=train_test_split#sklearn.model_selection.train_test_split"
      ],
      "metadata": {
        "id": "AB_ybyVx5z1t"
      }
    },
    {
      "cell_type": "markdown",
      "source": [
        "Imports from scikit-learn to train our model"
      ],
      "metadata": {
        "id": "6trBVfEkt6wv"
      }
    },
    {
      "cell_type": "code",
      "source": [
        "from sklearn.neighbors import KNeighborsClassifier\n",
        "from sklearn.metrics import accuracy_score\n",
        "from sklearn.model_selection import train_test_split"
      ],
      "metadata": {
        "id": "I6ImqkNat573"
      },
      "execution_count": null,
      "outputs": []
    },
    {
      "cell_type": "markdown",
      "source": [
        "Test one possible prediction\n",
        "- output should be a 1 (Happy) or 0 (Unhappy)\n",
        "- change the single_attempt_model.predict([[5,1,3,1,5,3]]) to different inputs to see what it will predict. \n",
        " - Examples to use are: \n",
        "  [[5,1,3,1,5,3]], \n",
        "  [[1,1,3,1,5,3]],\n",
        "  [[5,3,3,3,5,3]],\n",
        "  [[3,2,4,4,4,5]]"
      ],
      "metadata": {
        "id": "6jGr_6nzmY5G"
      }
    },
    {
      "cell_type": "code",
      "source": [
        "single_attempt_model = KNeighborsClassifier(n_neighbors=5)\n",
        "single_attempt_model.fit(features,labels)\n",
        "# Test prediction for a single CSUF resident \n",
        "happy_unhappy_prediction = single_attempt_model.predict([[1,1,3,1,5,3]])\n",
        "print(happy_unhappy_prediction)"
      ],
      "metadata": {
        "colab": {
          "base_uri": "https://localhost:8080/"
        },
        "id": "bQdVVFsBQk2D",
        "outputId": "f6fdb49f-ad27-42a5-8344-77e1186bbb4d"
      },
      "execution_count": null,
      "outputs": [
        {
          "output_type": "stream",
          "name": "stdout",
          "text": [
            "[0]\n"
          ]
        }
      ]
    },
    {
      "cell_type": "markdown",
      "source": [
        "Trains a model with sklearn's KNeighborsClassifier() and prints the accuracy of it's prediction"
      ],
      "metadata": {
        "id": "dnXHePixtm2t"
      }
    },
    {
      "cell_type": "code",
      "source": [
        "X_train, X_test, y_train, y_test = train_test_split(features, labels, test_size=0.33, random_state=42)\n",
        "k_neighbor = KNeighborsClassifier(n_neighbors=5)\n",
        "k_neighbor.fit(X_train, y_train)\n",
        "y_prediction = k_neighbor.predict(X_test)\n",
        "\n",
        "print('Accuracy Score', accuracy_score(y_test, y_prediction))"
      ],
      "metadata": {
        "id": "4ce5rSaI2vPz",
        "colab": {
          "base_uri": "https://localhost:8080/"
        },
        "outputId": "d7c9e116-0c6d-422c-fa35-40ed1dd46026"
      },
      "execution_count": null,
      "outputs": [
        {
          "output_type": "stream",
          "name": "stdout",
          "text": [
            "Accuracy Score 0.6808510638297872\n"
          ]
        }
      ]
    },
    {
      "cell_type": "markdown",
      "source": [
        "Runs the model in a for loop that tests a different K-Value every iteration. Each iteration stores the error rate of that k-value, along with the k-value itself. Then we plot the data to see which k value demonstrates the lowest error rate from our model.\n",
        "\n",
        "After running the cell, we can see that k = 7 has the lowest error rate, which will produce our highest accuracy. "
      ],
      "metadata": {
        "id": "0PjV6B_esjsm"
      }
    },
    {
      "cell_type": "code",
      "source": [
        "error_list = []\n",
        "kvalue_list = []\n",
        "for i in range(1,40):\n",
        "    k_neighbor = KNeighborsClassifier(n_neighbors=i)\n",
        "    k_neighbor.fit(X_train, y_train)\n",
        "    y_prediction = k_neighbor.predict(X_test)\n",
        "    error_rate = 1- accuracy_score(y_test, y_prediction)\n",
        "    error_list.append(error_rate)\n",
        "    kvalue_list.append(i)\n",
        "plt.plot(kvalue_list, error_list, color='blue', linestyle='dashed', marker='o', markerfacecolor='red', markersize=10)\n",
        "plt.xlabel(\"K-Value\")\n",
        "plt.ylabel(\"Error Rate\")"
      ],
      "metadata": {
        "colab": {
          "base_uri": "https://localhost:8080/"
        },
        "id": "z3nwPw_6-iId",
        "outputId": "72df2f6b-b52c-46c2-fd2e-14724af64ae8"
      },
      "execution_count": null,
      "outputs": [
        {
          "output_type": "execute_result",
          "data": {
            "text/plain": [
              "Text(0, 0.5, 'Error Rate')"
            ]
          },
          "metadata": {},
          "execution_count": 151
        },
        {
          "output_type": "display_data",
          "data": {
            "image/png": "[encoded data removed]",
            "text/plain": [
              "<Figure size 432x288 with 1 Axes>"
            ]
          },
          "metadata": {
            "needs_background": "light"
          }
        }
      ]
    },
    {
      "cell_type": "markdown",
      "source": [
        "Now if we train the model again using k=7, you'll see a higher accuracy score."
      ],
      "metadata": {
        "id": "fZNugp9oXtPp"
      }
    },
    {
      "cell_type": "code",
      "source": [
        "k_neighbor = KNeighborsClassifier(n_neighbors=7)\n",
        "k_neighbor.fit(X_train, y_train)\n",
        "y_prediction = k_neighbor.predict(X_test)\n",
        "\n",
        "print('Accuracy Score', accuracy_score(y_test, y_prediction))"
      ],
      "metadata": {
        "colab": {
          "base_uri": "https://localhost:8080/"
        },
        "id": "WolquohiXkIm",
        "outputId": "894f53dd-5958-4c17-bea9-ca846d421365"
      },
      "execution_count": null,
      "outputs": [
        {
          "output_type": "stream",
          "name": "stdout",
          "text": [
            "Accuracy Score 0.723404255319149\n"
          ]
        }
      ]
    },
    {
      "cell_type": "markdown",
      "source": [
        "# KNN built form scratch\n",
        "\n",
        "- without using sklearns KNeighborsClassifier(), fit(), and predict()"
      ],
      "metadata": {
        "id": "GQDI90NcBUXz"
      }
    },
    {
      "cell_type": "code",
      "source": [
        "\n",
        "import math\n",
        "\n",
        "# Get distance of one point to another from test \n",
        "# and train data using eucladian metric\n",
        "def calculate_distance(point1, point2):\n",
        "    distance_calculation = math.sqrt(sum((point2-point1)**2))\n",
        "    return distance_calculation\n",
        "\n",
        "# Given a list of labels ex: [1 0 0 0 0 1 1]\n",
        "# returns the most frequent label being 1 or 0\n",
        "\n",
        "def calculate_prediction(labels):\n",
        "    count1=0\n",
        "    count2=0\n",
        "    for i in range(len(labels)):\n",
        "        if labels[i] == 0:\n",
        "          count1+=1\n",
        "        else:\n",
        "          count2+=1\n",
        "    if count1 > count2:\n",
        "      result = 0\n",
        "    else: \n",
        "      result = 1 \n",
        "    \n",
        "    return result\n",
        "\n",
        "# Given a list of distances and the neighbor k,\n",
        "# returns a list of size = k with the index of the shortest distances\n",
        "# representing the position of y_train dataset responses\n",
        "# Example: \n",
        "#  y_train = [0 1 0 0 1 1 1 0 0 0 0 1 1 1 1 1 1 0 1 0 1 0 1 1 1 0 1 0 0 0 1 1 0 0 0 1 0\n",
        "#             0 0 1 1 1 0 1 0 1 0 1 0 0 0 1 0 1 0 1 0 0 0 1 1 1 1 0 1 1 1 1 1 1 0 0 0 1\n",
        "#             1 0 0 1 0 1 1 0 0 0 0 0 1 0 1 0 1 0 1]\n",
        "#  sorted_distance() = [8, 1, 18, 23, 38, 2, 4]\n",
        "#  8 in sorted distances is the position of y_train[8] reponse which equals 0\n",
        "\n",
        "def sort_distances(distance_list, k):\n",
        "    sorted_list = []\n",
        "    for i in range(len(distance_list)):\n",
        "          sorted_list.append([distance_list[i],i])\n",
        "    sorted_list.sort()\n",
        "    sorted_distance_index = []\n",
        "   \n",
        "    for i in sorted_list:\n",
        "      sorted_distance_index .append(i[1])\n",
        "    \n",
        "    return sorted_distance_index [:k]\n",
        "\n",
        "\n",
        "def knn_classifier_scratch(X_train, X_test, y_train, k):\n",
        "    # list to hold resulting label responses of 1's and 0's\n",
        "    labels_list = []\n",
        "    # loops through every data point in the X test array\n",
        "    # Example data point: array[4. 2. 2. 4. 4. 5.]\n",
        "    # length of train dataset = 47\n",
        "    for datapoint_X in X_test:\n",
        "        # list to hold all the calculated distances unsorted\n",
        "        distance_list = []\n",
        "\n",
        "        # loops through every data point in the X train array\n",
        "        # Example data point: [4. 1. 3. 4. 4. 3.]\n",
        "        # length of test dataset = 93\n",
        "        for datapoint_Y in range(len(X_train)):\n",
        "          # calculate eucladian distance from each point in the train and test data\n",
        "            distance_calc = calculate_distance(X_train[datapoint_Y,:], datapoint_X)\n",
        "            distance_list.append(distance_calc)\n",
        "     \n",
        "        # Sorts distance and returns the index \n",
        "        # first occurance of the sort up to k times\n",
        "        k_nearest_neighbors = sort_distances(distance_list, k)\n",
        "      \n",
        "      \n",
        "        # Store the label responses of the knn's\n",
        "        y_train_labels = y_train[k_nearest_neighbors ]\n",
        "     \n",
        "        # determines the amount of 1's and 0's to predict if the final label\n",
        "        # should be a 1 or a 0\n",
        "        final_label = calculate_prediction(y_train_labels)\n",
        "\n",
        "   \n",
        "        labels_list.append(final_label)\n",
        "    # returns the list of predicted labels\n",
        "    return labels_list"
      ],
      "metadata": {
        "id": "_EIzMcQ_rMXB"
      },
      "execution_count": null,
      "outputs": []
    },
    {
      "cell_type": "markdown",
      "source": [
        "Train our model with KNN from scratch algorithm\n",
        "- we can see that it gives a 68 percent accuracy score, slightly less than sklearns classification method\n",
        "\n",
        "This means for a first time attempt at understanding KNN, not so bad, but I could make a lot of improvements such as how I'm preproccessing the data. "
      ],
      "metadata": {
        "id": "LoJf0dsbWdjm"
      }
    },
    {
      "cell_type": "code",
      "source": [
        "X_train, X_test, y_train, y_test = train_test_split(features, labels, test_size=0.33, random_state=42)\n",
        "# train the model using KNN algorithm built from scratch\n",
        "y_prediction = knn_classifier_scratch(X_train,X_test,y_train , 7)\n",
        "print('Accuracy Score', accuracy_score(y_test, y_prediction))"
      ],
      "metadata": {
        "id": "Izp-Iwhpxa1B",
        "colab": {
          "base_uri": "https://localhost:8080/"
        },
        "outputId": "3d3ae62e-6f7c-4b70-c96e-3439dab39b0b"
      },
      "execution_count": null,
      "outputs": [
        {
          "output_type": "stream",
          "name": "stdout",
          "text": [
            "Accuracy Score 0.6808510638297872\n"
          ]
        }
      ]
    },
    {
      "cell_type": "markdown",
      "source": [
        "Runs the model in a for loop that tests a different K-Value every iteration. Each iteration stores the error rate of that k-value, along with the k-value itself. Then we plot the data to see which k value demonstrates the lowest error rate from our model.\n",
        "\n",
        "After running the cell, even with the KNN built from scratch, we can see that k = 7 has the lowest error rate, which will produce our highest accuracy."
      ],
      "metadata": {
        "id": "eSux3F_0g8h1"
      }
    },
    {
      "cell_type": "markdown",
      "source": [
        "Same code cell as previous training model, only I used the KNN from scratch algorithm rather than the sklearn one"
      ],
      "metadata": {
        "id": "gJs1B1o7h_iE"
      }
    },
    {
      "cell_type": "code",
      "source": [
        "error_list = []\n",
        "kvalue_list = []\n",
        "for i in range(1,40):\n",
        "    y_prediction = knn_classifier_scratch(X_train,X_test,y_train , i)\n",
        "    error_rate = 1- accuracy_score(y_test, y_prediction)\n",
        "    error_list.append(error_rate)\n",
        "    kvalue_list.append(i)\n",
        "plt.plot(kvalue_list, error_list, color='blue', linestyle='dashed', marker='o', markerfacecolor='red', markersize=10)\n",
        "plt.xlabel(\"K-Value\")\n",
        "plt.ylabel(\"Error Rate\")"
      ],
      "metadata": {
        "colab": {
          "base_uri": "https://localhost:8080/",
          "height": 300
        },
        "id": "rNXt7486J7nJ",
        "outputId": "f5b0264e-f40d-4ff8-9ade-59e7e872ea5b"
      },
      "execution_count": null,
      "outputs": [
        {
          "output_type": "execute_result",
          "data": {
            "text/plain": [
              "Text(0, 0.5, 'Error Rate')"
            ]
          },
          "metadata": {},
          "execution_count": 155
        },
        {
          "output_type": "display_data",
          "data": {
            "image/png": "[encoded data removed]",
            "text/plain": [
              "<Figure size 432x288 with 1 Axes>"
            ]
          },
          "metadata": {
            "needs_background": "light"
          }
        }
      ]
    }
  ]
}